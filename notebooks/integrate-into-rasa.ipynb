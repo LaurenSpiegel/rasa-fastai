{
 "cells": [
  {
   "cell_type": "code",
   "execution_count": 1,
   "metadata": {},
   "outputs": [],
   "source": [
    "%reload_ext autoreload\n",
    "%autoreload 2\n",
    "%matplotlib inline"
   ]
  },
  {
   "cell_type": "code",
   "execution_count": 2,
   "metadata": {},
   "outputs": [],
   "source": [
    "from fastai import *\n",
    "from fastai.text import *"
   ]
  },
  {
   "cell_type": "code",
   "execution_count": 3,
   "metadata": {},
   "outputs": [],
   "source": [
    "path = Path('/home/jupyter/chat-data')"
   ]
  },
  {
   "cell_type": "markdown",
   "metadata": {},
   "source": [
    "### Setup Learner"
   ]
  },
  {
   "cell_type": "code",
   "execution_count": 6,
   "metadata": {},
   "outputs": [],
   "source": [
    "data_bunch = 'data_clas_export_7_14.pkl'\n",
    "trained_model = 'chat-clas-7-12_2'\n",
    "encoder = 'chat-lm-encoder-7-12_2'"
   ]
  },
  {
   "cell_type": "code",
   "execution_count": 7,
   "metadata": {},
   "outputs": [],
   "source": [
    "data_clas = load_data(path, data_bunch, bs=32)\n",
    "clas_learn = text_classifier_learner(data_clas, AWD_LSTM, drop_mult=0.5)\n",
    "clas_learn.load(trained_model)\n",
    "clas_learn.load_encoder(encoder)"
   ]
  },
  {
   "cell_type": "code",
   "execution_count": 9,
   "metadata": {},
   "outputs": [
    {
     "data": {
      "text/plain": [
       "(Category greet,\n",
       " tensor(37),\n",
       " tensor([1.7734e-03, 3.4433e-05, 8.3470e-04, 9.5550e-05, 2.4194e-05, 6.0020e-04,\n",
       "         1.5237e-03, 2.3544e-04, 1.4157e-01, 2.4288e-05, 1.8255e-04, 7.9431e-05,\n",
       "         3.7898e-04, 9.6639e-05, 2.4013e-01, 3.4481e-04, 9.8123e-05, 6.4609e-06,\n",
       "         3.0558e-04, 4.8295e-03, 2.8677e-02, 3.3994e-02, 1.6960e-04, 6.2135e-05,\n",
       "         2.8435e-04, 1.5340e-04, 7.2886e-05, 1.9466e-04, 2.7943e-04, 4.1249e-05,\n",
       "         2.4435e-05, 5.0937e-02, 1.5473e-03, 1.5553e-03, 1.1050e-04, 1.6630e-02,\n",
       "         5.7694e-05, 4.2145e-01, 2.6813e-03, 4.3913e-04, 2.7011e-04, 8.7943e-05,\n",
       "         7.3565e-04, 5.2236e-03, 2.8214e-03, 1.6263e-03, 3.2046e-04, 2.4389e-03,\n",
       "         3.3950e-02]))"
      ]
     },
     "execution_count": 9,
     "metadata": {},
     "output_type": "execute_result"
    }
   ],
   "source": [
    "clas_learn.predict('good day')"
   ]
  },
  {
   "cell_type": "code",
   "execution_count": 10,
   "metadata": {},
   "outputs": [
    {
     "data": {
      "text/plain": [
       "['affirm',\n",
       " 'ask_builder',\n",
       " 'ask_faq_channels',\n",
       " 'ask_faq_community_size',\n",
       " 'ask_faq_languages',\n",
       " 'ask_faq_opensource',\n",
       " 'ask_faq_platform',\n",
       " 'ask_faq_python_version',\n",
       " 'ask_faq_slots',\n",
       " 'ask_faq_tutorials',\n",
       " 'ask_faq_voice',\n",
       " 'ask_faq_what_is_forum',\n",
       " 'ask_how_contribute',\n",
       " 'ask_howbuilt',\n",
       " 'ask_howdoing',\n",
       " 'ask_howold',\n",
       " 'ask_isbot',\n",
       " 'ask_languagesbot',\n",
       " 'ask_question_in_forum',\n",
       " 'ask_restaurant',\n",
       " 'ask_time',\n",
       " 'ask_weather',\n",
       " 'ask_whatismyname',\n",
       " 'ask_whatisrasa',\n",
       " 'ask_whatspossible',\n",
       " 'ask_when_next_event',\n",
       " 'ask_wherefrom',\n",
       " 'ask_which_events',\n",
       " 'ask_whoami',\n",
       " 'ask_whoisit',\n",
       " 'ask_why_contribute',\n",
       " 'bye',\n",
       " 'canthelp',\n",
       " 'contact_sales',\n",
       " 'deny',\n",
       " 'enter_data',\n",
       " 'explain',\n",
       " 'greet',\n",
       " 'how_to_get_started',\n",
       " 'human_handoff',\n",
       " 'install_rasa',\n",
       " 'next_step',\n",
       " 'nlu_generation_tool_recommendation',\n",
       " 'out_of_scope',\n",
       " 'pipeline_recommendation',\n",
       " 'signup_newsletter',\n",
       " 'switch',\n",
       " 'technical_question',\n",
       " 'thank']"
      ]
     },
     "execution_count": 10,
     "metadata": {},
     "output_type": "execute_result"
    }
   ],
   "source": [
    "clas_learn.data.classes"
   ]
  },
  {
   "cell_type": "markdown",
   "metadata": {},
   "source": [
    "### Create Special Rasa component"
   ]
  },
  {
   "cell_type": "code",
   "execution_count": 11,
   "metadata": {},
   "outputs": [
    {
     "ename": "ModuleNotFoundError",
     "evalue": "No module named 'rasa'",
     "output_type": "error",
     "traceback": [
      "\u001b[0;31m---------------------------------------------------------------------------\u001b[0m",
      "\u001b[0;31mModuleNotFoundError\u001b[0m                       Traceback (most recent call last)",
      "\u001b[0;32m<ipython-input-11-cb2aaf46ec8d>\u001b[0m in \u001b[0;36m<module>\u001b[0;34m\u001b[0m\n\u001b[0;32m----> 1\u001b[0;31m \u001b[0;32mfrom\u001b[0m \u001b[0mrasa\u001b[0m\u001b[0;34m.\u001b[0m\u001b[0mnlu\u001b[0m\u001b[0;34m.\u001b[0m\u001b[0mcomponents\u001b[0m \u001b[0;32mimport\u001b[0m \u001b[0mComponent\u001b[0m\u001b[0;34m\u001b[0m\u001b[0;34m\u001b[0m\u001b[0m\n\u001b[0m\u001b[1;32m      2\u001b[0m \u001b[0;32mfrom\u001b[0m \u001b[0mrasa\u001b[0m\u001b[0;34m.\u001b[0m\u001b[0mnlu\u001b[0m \u001b[0;32mimport\u001b[0m \u001b[0mutils\u001b[0m\u001b[0;34m\u001b[0m\u001b[0;34m\u001b[0m\u001b[0m\n\u001b[1;32m      3\u001b[0m \u001b[0;32mfrom\u001b[0m \u001b[0mrasa\u001b[0m\u001b[0;34m.\u001b[0m\u001b[0mnlu\u001b[0m\u001b[0;34m.\u001b[0m\u001b[0mmodel\u001b[0m \u001b[0;32mimport\u001b[0m \u001b[0mMetadata\u001b[0m\u001b[0;34m\u001b[0m\u001b[0;34m\u001b[0m\u001b[0m\n",
      "\u001b[0;31mModuleNotFoundError\u001b[0m: No module named 'rasa'"
     ]
    }
   ],
   "source": [
    "from rasa.nlu.components import Component\n",
    "from rasa.nlu import utils\n",
    "from rasa.nlu.model import Metadata"
   ]
  },
  {
   "cell_type": "code",
   "execution_count": null,
   "metadata": {},
   "outputs": [],
   "source": []
  }
 ],
 "metadata": {
  "kernelspec": {
   "display_name": "Python 3",
   "language": "python",
   "name": "python3"
  },
  "language_info": {
   "codemirror_mode": {
    "name": "ipython",
    "version": 3
   },
   "file_extension": ".py",
   "mimetype": "text/x-python",
   "name": "python",
   "nbconvert_exporter": "python",
   "pygments_lexer": "ipython3",
   "version": "3.7.3"
  }
 },
 "nbformat": 4,
 "nbformat_minor": 2
}
